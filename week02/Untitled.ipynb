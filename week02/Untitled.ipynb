{
 "cells": [
  {
   "cell_type": "code",
   "execution_count": null,
   "metadata": {
    "collapsed": true
   },
   "outputs": [],
   "source": [
    "%matplotlib inline\n",
    "import pandas as pd\n",
    "import pylab\n",
    "import datetime\n",
    "import numpy\n",
    "import matplotlib.image\n",
    "import matplotlib.pyplot as plt\n",
    "\n",
    "tashu_file = open('/Users/jegalsumin/Documents/Class_Data-Science/week02/tashu.csv','r')\n",
    "tashu_dict = csv.DictReader(tashu_file)\n",
    "station_file = open('/Users/jegalsumin/Documents/Class_Data-Science/week02/station.csv','r')\n",
    "station_dict = csv.DictReader(station_file)\n",
    "\n",
    "max_station = 226\n",
    "\n",
    "station = [\"\"]*(max_station+1)\n",
    "for row_station in station_dict:\n",
    "    station[int(row_station['키오스크번호'])] = row_station['구별']\n",
    "\n",
    "total_station = [0]*(max_station+1)\n",
    "for count_station_row in tashu_dict:\n",
    "    if(count_station_row['RENT_STATION']) is '':\n",
    "        continue\n",
    "    if(count_station_row['RETURN_STATION']) is '':\n",
    "        continue\n",
    "    total_station[int(count_station_row['RENT_STATION'])] +=1\n",
    "    total_station[int(count_station_row['RETURN_STATION'])] +=1\n",
    "    \n",
    "region_gu = [0]*5\n",
    "for k in range(0,max_station+1,1):\n",
    "    if station[k] == '유성구':\n",
    "        region_gu[0] += total_station[k]\n",
    "    elif station[k] == '서구' :\n",
    "        region_gu[1] += total_station[k]\n",
    "    elif station[k] == '대덕구' :\n",
    "        region_gu[2] += total_station[k]\n",
    "    elif station[k] == '동구' :\n",
    "        region_gu[3] += total_station[k]\n",
    "    elif station[k] == '중구' :\n",
    "        region_gu[4] += total_station[k]\n",
    "        \n",
    "\n",
    "region_gu = pd.Series(region_gu)\n",
    "\n",
    "#plt.xticks((0,1,2,3,4),('Yusung-gu','Seo-gu','Daeduk-gu','Dong-gu','Jung-gu'))\n",
    "plt.title('Num of stations per district')\n",
    "region_gu.plot(kind='bar')\n",
    "plt.axhline(0,color='k')\n",
    "plt.show()"
   ]
  }
 ],
 "metadata": {
  "kernelspec": {
   "display_name": "Python 3",
   "language": "python",
   "name": "python3"
  },
  "language_info": {
   "codemirror_mode": {
    "name": "ipython",
    "version": 3
   },
   "file_extension": ".py",
   "mimetype": "text/x-python",
   "name": "python",
   "nbconvert_exporter": "python",
   "pygments_lexer": "ipython3",
   "version": "3.5.2"
  }
 },
 "nbformat": 4,
 "nbformat_minor": 2
}
